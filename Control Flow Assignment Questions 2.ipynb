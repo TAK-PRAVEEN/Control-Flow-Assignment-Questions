{
 "cells": [
  {
   "cell_type": "markdown",
   "metadata": {},
   "source": [
    "Basic Level:"
   ]
  },
  {
   "cell_type": "markdown",
   "metadata": {},
   "source": [
    "1. Write a Python program that checks if a given number is positive, negative, or zero.\n"
   ]
  },
  {
   "cell_type": "code",
   "execution_count": 1,
   "metadata": {},
   "outputs": [
    {
     "name": "stdout",
     "output_type": "stream",
     "text": [
      "The number 32.0 is Positive.\n"
     ]
    }
   ],
   "source": [
    "def check_positive_negative_zero(num):\n",
    "    if num > 0:\n",
    "        return \"Positive\"\n",
    "    elif num < 0:\n",
    "        return \"Negative\"\n",
    "    else:\n",
    "        return \"Zero\"\n",
    "\n",
    "user_num = float(input(\"Enter a number: \"))\n",
    "result = check_positive_negative_zero(user_num)\n",
    "print(f\"The number {user_num} is {result}.\")"
   ]
  },
  {
   "cell_type": "markdown",
   "metadata": {},
   "source": [
    "2. Create a program to determine if a person is eligible to vote based on their age.\n"
   ]
  },
  {
   "cell_type": "code",
   "execution_count": 2,
   "metadata": {},
   "outputs": [
    {
     "name": "stdout",
     "output_type": "stream",
     "text": [
      "You are Eligible to vote.\n"
     ]
    }
   ],
   "source": [
    "def check_voter_eligibility(age):\n",
    "    if age >= 18:\n",
    "        return \"Eligible to vote\"\n",
    "    else:\n",
    "        return \"Not eligible to vote\"\n",
    "\n",
    "user_age = int(input(\"Enter your age: \"))\n",
    "eligibility = check_voter_eligibility(user_age)\n",
    "print(f\"You are {eligibility}.\")"
   ]
  },
  {
   "cell_type": "markdown",
   "metadata": {},
   "source": [
    "3. Write a program to find the maximum of two given numbers using conditional statements.\n"
   ]
  },
  {
   "cell_type": "code",
   "execution_count": 3,
   "metadata": {},
   "outputs": [
    {
     "name": "stdout",
     "output_type": "stream",
     "text": [
      "The maximum of 45.0 and 3.0 is 45.0.\n"
     ]
    }
   ],
   "source": [
    "def find_maximum(a, b):\n",
    "    if a > b:\n",
    "        return a\n",
    "    else:\n",
    "        return b\n",
    "\n",
    "num1 = float(input(\"Enter the first number: \"))\n",
    "num2 = float(input(\"Enter the second number: \"))\n",
    "max_num = find_maximum(num1, num2)\n",
    "print(f\"The maximum of {num1} and {num2} is {max_num}.\")"
   ]
  },
  {
   "cell_type": "markdown",
   "metadata": {},
   "source": [
    "4. Develop a program that calculates the grade of a student based on their exam score.\n"
   ]
  },
  {
   "cell_type": "code",
   "execution_count": 4,
   "metadata": {},
   "outputs": [
    {
     "name": "stdout",
     "output_type": "stream",
     "text": [
      "Grade: A\n"
     ]
    }
   ],
   "source": [
    "def calculate_grade(score):\n",
    "    if 90 <= score <= 100:\n",
    "        return \"A\"\n",
    "    elif 80 <= score < 90:\n",
    "        return \"B\"\n",
    "    elif 70 <= score < 80:\n",
    "        return \"C\"\n",
    "    elif 60 <= score < 70:\n",
    "        return \"D\"\n",
    "    else:\n",
    "        return \"F\"\n",
    "\n",
    "user_score = float(input(\"Enter the student's score: \"))\n",
    "grade = calculate_grade(user_score)\n",
    "print(f\"Grade: {grade}\")"
   ]
  },
  {
   "cell_type": "markdown",
   "metadata": {},
   "source": [
    "5. Create a program that checks if a year is a leap year or not.\n"
   ]
  },
  {
   "cell_type": "code",
   "execution_count": 5,
   "metadata": {},
   "outputs": [
    {
     "name": "stdout",
     "output_type": "stream",
     "text": [
      "2024 is a leap year.\n"
     ]
    }
   ],
   "source": [
    "def is_leap_year(year):\n",
    "    return (year % 4 == 0 and year % 100 != 0) or (year % 400 == 0)\n",
    "\n",
    "user_year = int(input(\"Enter a year: \"))\n",
    "if is_leap_year(user_year):\n",
    "    print(f\"{user_year} is a leap year.\")\n",
    "else:\n",
    "    print(f\"{user_year} is not a leap year.\")"
   ]
  },
  {
   "cell_type": "markdown",
   "metadata": {},
   "source": [
    "6. Write a program to classify a triangle based on its sides' lengths.\n"
   ]
  },
  {
   "cell_type": "code",
   "execution_count": 6,
   "metadata": {},
   "outputs": [
    {
     "name": "stdout",
     "output_type": "stream",
     "text": [
      "The triangle is Scalene.\n"
     ]
    }
   ],
   "source": [
    "def classify_triangle(a, b, c):\n",
    "    if a == b == c:\n",
    "        return \"Equilateral\"\n",
    "    elif a == b or b == c or a == c:\n",
    "        return \"Isosceles\"\n",
    "    else:\n",
    "        return \"Scalene\"\n",
    "\n",
    "side1 = float(input(\"Enter the length of side 1: \"))\n",
    "side2 = float(input(\"Enter the length of side 2: \"))\n",
    "side3 = float(input(\"Enter the length of side 3: \"))\n",
    "triangle_type = classify_triangle(side1, side2, side3)\n",
    "print(f\"The triangle is {triangle_type}.\")"
   ]
  },
  {
   "cell_type": "markdown",
   "metadata": {},
   "source": [
    "7. Build a program that determines the largest of three given numbers.\n"
   ]
  },
  {
   "cell_type": "code",
   "execution_count": 7,
   "metadata": {},
   "outputs": [
    {
     "name": "stdout",
     "output_type": "stream",
     "text": [
      "The largest of 2.0, 3.0, and 5.0 is 5.0.\n"
     ]
    }
   ],
   "source": [
    "def find_largest_of_three(a, b, c):\n",
    "    return max(a, b, c)\n",
    "\n",
    "num1 = float(input(\"Enter the first number: \"))\n",
    "num2 = float(input(\"Enter the second number: \"))\n",
    "num3 = float(input(\"Enter the third number: \"))\n",
    "largest_num = find_largest_of_three(num1, num2, num3)\n",
    "print(f\"The largest of {num1}, {num2}, and {num3} is {largest_num}.\")"
   ]
  },
  {
   "cell_type": "markdown",
   "metadata": {},
   "source": [
    "8. Develop a program that checks whether a character is a vowel or a consonant.\n"
   ]
  },
  {
   "cell_type": "code",
   "execution_count": 8,
   "metadata": {},
   "outputs": [
    {
     "name": "stdout",
     "output_type": "stream",
     "text": [
      "The character 'E' is a Vowel.\n"
     ]
    }
   ],
   "source": [
    "def check_vowel_or_consonant(char):\n",
    "    vowels = \"AEIOUaeiou\"\n",
    "    if char.isalpha():\n",
    "        if char in vowels:\n",
    "            return \"Vowel\"\n",
    "        else:\n",
    "            return \"Consonant\"\n",
    "    else:\n",
    "        return \"Not a valid alphabet character\"\n",
    "\n",
    "user_char = input(\"Enter a character: \")\n",
    "result = check_vowel_or_consonant(user_char)\n",
    "print(f\"The character '{user_char}' is a {result}.\")"
   ]
  },
  {
   "cell_type": "markdown",
   "metadata": {},
   "source": [
    "9. Create a program to calculate the total cost of a shopping cart based on discounts.\n"
   ]
  },
  {
   "cell_type": "code",
   "execution_count": 9,
   "metadata": {},
   "outputs": [
    {
     "name": "stdout",
     "output_type": "stream",
     "text": [
      "Discounted price: 1350.00\n"
     ]
    }
   ],
   "source": [
    "def calculate_discounted_price(total_amount):\n",
    "    if total_amount >= 1000:\n",
    "        discount = 0.1 * total_amount\n",
    "    elif total_amount >= 500:\n",
    "        discount = 0.05 * total_amount\n",
    "    else:\n",
    "        discount = 0\n",
    "    discounted_price = total_amount - discount\n",
    "    return discounted_price\n",
    "\n",
    "user_amount = float(input(\"Enter the total amount in the shopping cart: \"))\n",
    "final_price = calculate_discounted_price(user_amount)\n",
    "print(f\"Discounted price: {final_price:.2f}\")"
   ]
  },
  {
   "cell_type": "markdown",
   "metadata": {},
   "source": [
    "10. Write a program that checks if a given number is even or odd."
   ]
  },
  {
   "cell_type": "code",
   "execution_count": 10,
   "metadata": {},
   "outputs": [
    {
     "name": "stdout",
     "output_type": "stream",
     "text": [
      "The number 1454 is Even.\n"
     ]
    }
   ],
   "source": [
    "def check_even_odd(num):\n",
    "    if num % 2 == 0:\n",
    "        return \"Even\"\n",
    "    else:\n",
    "        return \"Odd\"\n",
    "\n",
    "user_num = int(input(\"Enter a number: \"))\n",
    "result = check_even_odd(user_num)\n",
    "print(f\"The number {user_num} is {result}.\")"
   ]
  },
  {
   "cell_type": "markdown",
   "metadata": {},
   "source": [
    "Intermediate Level:"
   ]
  },
  {
   "cell_type": "markdown",
   "metadata": {},
   "source": [
    "11. Write a program that calculates the roots of a quadratic equation .\n"
   ]
  },
  {
   "cell_type": "code",
   "execution_count": 11,
   "metadata": {},
   "outputs": [
    {
     "name": "stdout",
     "output_type": "stream",
     "text": [
      "Root 1: (-0.3333333333333333+0.4714045207910316j)\n",
      "Root 2: (-0.3333333333333333-0.4714045207910316j)\n"
     ]
    }
   ],
   "source": [
    "import cmath\n",
    "\n",
    "def quadratic_roots(a, b, c):\n",
    "    discriminant = b**2 - 4*a*c\n",
    "    root1 = (-b + cmath.sqrt(discriminant)) / (2*a)\n",
    "    root2 = (-b - cmath.sqrt(discriminant)) / (2*a)\n",
    "    return root1, root2\n",
    "\n",
    "a = float(input(\"Enter coefficient a: \"))\n",
    "b = float(input(\"Enter coefficient b: \"))\n",
    "c = float(input(\"Enter coefficient c: \"))\n",
    "\n",
    "root1, root2 = quadratic_roots(a, b, c)\n",
    "print(f\"Root 1: {root1}\")\n",
    "print(f\"Root 2: {root2}\")"
   ]
  },
  {
   "cell_type": "markdown",
   "metadata": {},
   "source": [
    "12. Create a program that determines the day of the week based on the day number (1-7).\n"
   ]
  },
  {
   "cell_type": "code",
   "execution_count": 12,
   "metadata": {},
   "outputs": [
    {
     "name": "stdout",
     "output_type": "stream",
     "text": [
      "Day of the week: Saturday\n"
     ]
    }
   ],
   "source": [
    "def get_day_of_week(day_number):\n",
    "    days = [\"Monday\", \"Tuesday\", \"Wednesday\", \"Thursday\", \"Friday\", \"Saturday\", \"Sunday\"]\n",
    "    if 1 <= day_number <= 7:\n",
    "        return days[day_number - 1]\n",
    "    else:\n",
    "        return \"Invalid day number\"\n",
    "\n",
    "user_day_number = int(input(\"Enter a number (1 for Monday, 2 for Tuesday, etc.): \"))\n",
    "day_of_week = get_day_of_week(user_day_number)\n",
    "print(f\"Day of the week: {day_of_week}\")"
   ]
  },
  {
   "cell_type": "markdown",
   "metadata": {},
   "source": [
    "13. Develop a program that calculates the factorial of a given number using recursion.\n"
   ]
  },
  {
   "cell_type": "code",
   "execution_count": 13,
   "metadata": {},
   "outputs": [
    {
     "name": "stdout",
     "output_type": "stream",
     "text": [
      "Factorial of 5 is 120\n"
     ]
    }
   ],
   "source": [
    "def factorial(n):\n",
    "    if n == 0:\n",
    "        return 1\n",
    "    else:\n",
    "        return n * factorial(n - 1)\n",
    "\n",
    "user_number = int(input(\"Enter a non-negative integer: \"))\n",
    "result = factorial(user_number)\n",
    "print(f\"Factorial of {user_number} is {result}\")"
   ]
  },
  {
   "cell_type": "markdown",
   "metadata": {},
   "source": [
    "14. Write a program to find the largest among three numbers without using the `max()` function.\n"
   ]
  },
  {
   "cell_type": "code",
   "execution_count": 14,
   "metadata": {},
   "outputs": [
    {
     "name": "stdout",
     "output_type": "stream",
     "text": [
      "The largest of 2.0, 3.0, and 5.0 is 5.0.\n"
     ]
    }
   ],
   "source": [
    "def find_largest(a, b, c):\n",
    "    largest = a\n",
    "    if b > largest:\n",
    "        largest = b\n",
    "    if c > largest:\n",
    "        largest = c\n",
    "    return largest\n",
    "\n",
    "num1 = float(input(\"Enter the first number: \"))\n",
    "num2 = float(input(\"Enter the second number: \"))\n",
    "num3 = float(input(\"Enter the third number: \"))\n",
    "largest_num = find_largest(num1, num2, num3)\n",
    "print(f\"The largest of {num1}, {num2}, and {num3} is {largest_num}.\")"
   ]
  },
  {
   "cell_type": "markdown",
   "metadata": {},
   "source": [
    "15. Create a program that simulates a basic ATM transaction menu.\n"
   ]
  },
  {
   "cell_type": "code",
   "execution_count": 18,
   "metadata": {},
   "outputs": [
    {
     "name": "stdout",
     "output_type": "stream",
     "text": [
      "ATM Transaction Menu:\n",
      "1. Balance Inquiry\n",
      "2. Withdrawal\n",
      "3. Deposit\n",
      "4. Exit\n",
      "Insufficient funds.\n",
      "ATM Transaction Menu:\n",
      "1. Balance Inquiry\n",
      "2. Withdrawal\n",
      "3. Deposit\n",
      "4. Exit\n",
      "Thank you for using our ATM. Have a great day!\n"
     ]
    }
   ],
   "source": [
    "def display_menu():\n",
    "    print(\"ATM Transaction Menu:\")\n",
    "    print(\"1. Balance Inquiry\")\n",
    "    print(\"2. Withdrawal\")\n",
    "    print(\"3. Deposit\")\n",
    "    print(\"4. Exit\")\n",
    "\n",
    "def check_balance(balance):\n",
    "    print(f\"Your current balance: ${balance:.2f}\")\n",
    "\n",
    "def withdraw(balance, amount):\n",
    "    if amount <= balance:\n",
    "        balance -= amount\n",
    "        print(f\"Withdrawal successful. Updated balance: ${balance:.2f}\")\n",
    "    else:\n",
    "        print(\"Insufficient funds.\")\n",
    "\n",
    "def deposit(balance, amount):\n",
    "    balance += amount\n",
    "    print(f\"Deposit successful. Updated balance: ${balance:.2f}\")\n",
    "\n",
    "def main():\n",
    "    initial_balance = 1000.0  # Initial account balance\n",
    "    current_balance = initial_balance\n",
    "\n",
    "    while True:\n",
    "        display_menu()\n",
    "        choice = input(\"Enter your choice (1-4): \")\n",
    "\n",
    "        if choice == '1':\n",
    "            check_balance(current_balance)\n",
    "        elif choice == '2':\n",
    "            withdrawal_amount = float(input(\"Enter withdrawal amount: $\"))\n",
    "            withdraw(current_balance, withdrawal_amount)\n",
    "        elif choice == '3':\n",
    "            deposit_amount = float(input(\"Enter deposit amount: $\"))\n",
    "            deposit(current_balance, deposit_amount)\n",
    "        elif choice == '4':\n",
    "            print(\"Thank you for using our ATM. Have a great day!\")\n",
    "            break\n",
    "        else:\n",
    "            print(\"Invalid choice. Please select a valid option.\")\n",
    "\n",
    "if __name__ == \"__main__\":\n",
    "    main()"
   ]
  },
  {
   "cell_type": "markdown",
   "metadata": {},
   "source": [
    "16. Build a program that checks if a given string is a palindrome or not.\n"
   ]
  },
  {
   "cell_type": "code",
   "execution_count": 16,
   "metadata": {},
   "outputs": [
    {
     "name": "stdout",
     "output_type": "stream",
     "text": [
      "'Praveen' is not a palindrome.\n"
     ]
    }
   ],
   "source": [
    "def is_palindrome(s):\n",
    "    s = s.lower().replace(\" \", \"\")  # Ignore case and spaces\n",
    "    return s == s[::-1]\n",
    "\n",
    "user_string = input(\"Enter a string: \")\n",
    "if is_palindrome(user_string):\n",
    "    print(f\"'{user_string}' is a palindrome.\")\n",
    "else:\n",
    "    print(f\"'{user_string}' is not a palindrome.\")"
   ]
  },
  {
   "cell_type": "markdown",
   "metadata": {},
   "source": [
    "17. Write a program that calculates the average of a list of numbers, excluding the smallest and largest values.\n"
   ]
  },
  {
   "cell_type": "code",
   "execution_count": 19,
   "metadata": {},
   "outputs": [
    {
     "name": "stdout",
     "output_type": "stream",
     "text": [
      "Average (excluding smallest and largest values): 3.50\n"
     ]
    }
   ],
   "source": [
    "def calculate_average(numbers):\n",
    "    if len(numbers) < 3:\n",
    "        return \"Not enough numbers to calculate an average.\"\n",
    "\n",
    "    # Exclude the smallest and largest values\n",
    "    sorted_numbers = sorted(numbers)\n",
    "    excluded_numbers = sorted_numbers[1:-1]\n",
    "\n",
    "    # Calculate the average\n",
    "    average = sum(excluded_numbers) / len(excluded_numbers)\n",
    "    return average\n",
    "\n",
    "# Example usage:\n",
    "user_input = input(\"Enter a list of numbers (comma-separated): \")\n",
    "try:\n",
    "    numbers_list = [float(num) for num in user_input.split(\",\")]\n",
    "    result = calculate_average(numbers_list)\n",
    "    print(f\"Average (excluding smallest and largest values): {result:.2f}\")\n",
    "except ValueError:\n",
    "    print(\"Invalid input. Please enter valid numeric values separated by commas.\")"
   ]
  },
  {
   "cell_type": "markdown",
   "metadata": {},
   "source": [
    "18. Develop a program that converts a given temperature from Celsius to Fahrenheit.\n"
   ]
  },
  {
   "cell_type": "code",
   "execution_count": 20,
   "metadata": {},
   "outputs": [
    {
     "name": "stdout",
     "output_type": "stream",
     "text": [
      "32.00°C is equivalent to 89.60°F.\n"
     ]
    }
   ],
   "source": [
    "def celsius_to_fahrenheit(celsius):\n",
    "    return (celsius * 9/5) + 32\n",
    "\n",
    "celsius_temp = float(input(\"Enter temperature in Celsius: \"))\n",
    "fahrenheit_temp = celsius_to_fahrenheit(celsius_temp)\n",
    "print(f\"{celsius_temp:.2f}°C is equivalent to {fahrenheit_temp:.2f}°F.\")"
   ]
  },
  {
   "cell_type": "markdown",
   "metadata": {},
   "source": [
    "19. Create a program that simulates a basic calculator for addition, subtraction, multiplication, and division.\n"
   ]
  },
  {
   "cell_type": "code",
   "execution_count": 1,
   "metadata": {},
   "outputs": [
    {
     "name": "stdout",
     "output_type": "stream",
     "text": [
      "Welcome to the Basic Calculator!\n",
      "\n",
      "Options:\n",
      "1. Add\n",
      "2. Subtract\n",
      "3. Multiply\n",
      "4. Divide\n",
      "5. Exit\n",
      "Result: 30.0\n",
      "\n",
      "Options:\n",
      "1. Add\n",
      "2. Subtract\n",
      "3. Multiply\n",
      "4. Divide\n",
      "5. Exit\n",
      "Exiting the calculator. Goodbye!\n"
     ]
    }
   ],
   "source": [
    "def add(x, y):\n",
    "    return x + y\n",
    "\n",
    "def subtract(x, y):\n",
    "    return x - y\n",
    "\n",
    "def multiply(x, y):\n",
    "    return x * y\n",
    "\n",
    "def divide(x, y):\n",
    "    if y != 0:\n",
    "        return x / y\n",
    "    else:\n",
    "        return \"Error: Division by zero!\"\n",
    "\n",
    "# Main function\n",
    "def main():\n",
    "    print(\"Welcome to the Basic Calculator!\")\n",
    "    while True:\n",
    "        print(\"\\nOptions:\")\n",
    "        print(\"1. Add\")\n",
    "        print(\"2. Subtract\")\n",
    "        print(\"3. Multiply\")\n",
    "        print(\"4. Divide\")\n",
    "        print(\"5. Exit\")\n",
    "\n",
    "        choice = input(\"Enter your choice (1/2/3/4/5): \")\n",
    "\n",
    "        if choice == '5':\n",
    "            print(\"Exiting the calculator. Goodbye!\")\n",
    "            break\n",
    "\n",
    "        num1 = float(input(\"Enter the first number: \"))\n",
    "        num2 = float(input(\"Enter the second number: \"))\n",
    "\n",
    "        if choice == '1':\n",
    "            print(\"Result:\", add(num1, num2))\n",
    "        elif choice == '2':\n",
    "            print(\"Result:\", subtract(num1, num2))\n",
    "        elif choice == '3':\n",
    "            print(\"Result:\", multiply(num1, num2))\n",
    "        elif choice == '4':\n",
    "            print(\"Result:\", divide(num1, num2))\n",
    "        else:\n",
    "            print(\"Invalid choice. Please select a valid option.\")\n",
    "\n",
    "if __name__ == \"__main__\":\n",
    "    main()\n"
   ]
  },
  {
   "cell_type": "markdown",
   "metadata": {},
   "source": [
    "20. Write a program that determines the roots of a cubic equation using the Cardano formula."
   ]
  },
  {
   "cell_type": "code",
   "execution_count": 2,
   "metadata": {},
   "outputs": [
    {
     "name": "stdout",
     "output_type": "stream",
     "text": [
      "Roots: ((1-0j), (3+1.1102230246251565e-16j), (2.0000000000000004-7.401486830834377e-17j))\n"
     ]
    }
   ],
   "source": [
    "import cmath\n",
    "\n",
    "def cubic_roots(a, b, c, d):\n",
    "    # Calculate discriminant\n",
    "    delta0 = b**2 - 3*a*c\n",
    "    delta1 = 2*b**3 - 9*a*b*c + 27*a**2*d\n",
    "    discriminant = delta1**2 - 4*delta0**3\n",
    "\n",
    "    if discriminant >= 0:\n",
    "        # Real roots\n",
    "        C = ((delta1 + cmath.sqrt(discriminant)) / 2)**(1/3)\n",
    "        x1 = (-1/(3*a)) * (b + C + delta0/C)\n",
    "        return x1\n",
    "    else:\n",
    "        # Complex roots\n",
    "        C = ((delta1 + cmath.sqrt(discriminant)) / 2)**(1/3)\n",
    "        omega = cmath.exp(2j*cmath.pi/3)\n",
    "        x1 = (-1/(3*a)) * (b + C + delta0/C)\n",
    "        x2 = (-1/(3*a)) * (b + omega*C + delta0/(omega*C))\n",
    "        x3 = (-1/(3*a)) * (b + omega**2*C + delta0/(omega**2*C))\n",
    "        return x1, x2, x3\n",
    "\n",
    "a = 1\n",
    "b = -6\n",
    "c = 11\n",
    "d = -6\n",
    "roots = cubic_roots(a, b, c, d)\n",
    "print(\"Roots:\", roots)"
   ]
  },
  {
   "cell_type": "markdown",
   "metadata": {},
   "source": [
    "Advanced Level:"
   ]
  },
  {
   "cell_type": "markdown",
   "metadata": {},
   "source": [
    "21. Create a program that calculates the income tax based on the user's income and tax brackets.\n"
   ]
  },
  {
   "cell_type": "code",
   "execution_count": 3,
   "metadata": {},
   "outputs": [
    {
     "name": "stdout",
     "output_type": "stream",
     "text": [
      "Your income tax: ₹25000.00\n"
     ]
    }
   ],
   "source": [
    "def calculate_income_tax(income):\n",
    "    # Define tax brackets and rates\n",
    "    brackets = [(0, 500000, 0.05), (500001, 1000000, 0.1), (1000001, float('inf'), 0.2)]\n",
    "\n",
    "    # Find the applicable rate\n",
    "    for lower, upper, rate in brackets:\n",
    "        if lower <= income <= upper:\n",
    "            return income * rate\n",
    "\n",
    "    return \"Invalid income or tax brackets not defined.\"\n",
    "\n",
    "user_income = float(input(\"Enter your annual income: \"))\n",
    "tax_amount = calculate_income_tax(user_income)\n",
    "print(f\"Your income tax: ₹{tax_amount:.2f}\")"
   ]
  },
  {
   "cell_type": "markdown",
   "metadata": {},
   "source": [
    "22. Write a program that simulates a rock-paper-scissors game against the computer.\n"
   ]
  },
  {
   "cell_type": "code",
   "execution_count": 5,
   "metadata": {},
   "outputs": [
    {
     "name": "stdout",
     "output_type": "stream",
     "text": [
      "You win! Computer chose rock.\n"
     ]
    }
   ],
   "source": [
    "import random\n",
    "\n",
    "def play_rps():\n",
    "    choices = [\"rock\", \"paper\", \"scissors\"]\n",
    "    user_choice = input(\"Choose rock, paper, or scissors: \").lower()\n",
    "    computer_choice = random.choice(choices)\n",
    "\n",
    "    if user_choice in choices:\n",
    "        if user_choice == computer_choice:\n",
    "            print(\"It's a tie!\")\n",
    "        elif (user_choice == \"rock\" and computer_choice == \"scissors\") or \\\n",
    "             (user_choice == \"paper\" and computer_choice == \"rock\") or \\\n",
    "             (user_choice == \"scissors\" and computer_choice == \"paper\"):\n",
    "            print(f\"You win! Computer chose {computer_choice}.\")\n",
    "        else:\n",
    "            print(f\"You lose! Computer chose {computer_choice}.\")\n",
    "    else:\n",
    "        print(\"Invalid choice. Please choose rock, paper, or scissors.\")\n",
    "\n",
    "# Play the game\n",
    "play_rps()"
   ]
  },
  {
   "cell_type": "markdown",
   "metadata": {},
   "source": [
    "23. Develop a program that generates a random password based on user preferences (length, complexity).\n"
   ]
  },
  {
   "cell_type": "code",
   "execution_count": 8,
   "metadata": {},
   "outputs": [
    {
     "name": "stdout",
     "output_type": "stream",
     "text": [
      "Generated password: !Q:/0}OFq{'[@#n\n"
     ]
    }
   ],
   "source": [
    "import string\n",
    "import random\n",
    "\n",
    "def generate_password(length=8):\n",
    "    characters = string.ascii_letters + string.digits + string.punctuation\n",
    "    return ''.join(random.choice(characters) for _ in range(length))\n",
    "\n",
    "# Example usage\n",
    "password_length = int(input(\"Enter desired password length: \"))\n",
    "random_password = generate_password(password_length)\n",
    "print(f\"Generated password: {random_password}\")"
   ]
  },
  {
   "cell_type": "markdown",
   "metadata": {},
   "source": [
    "24. Create a program that implements a simple text-based adventure game with branching scenarios.\n"
   ]
  },
  {
   "cell_type": "code",
   "execution_count": 9,
   "metadata": {},
   "outputs": [
    {
     "name": "stdout",
     "output_type": "stream",
     "text": [
      "Welcome to the Mysterious Forest!\n",
      "You find yourself at a crossroads. Which path will you take?\n",
      "You encounter a friendly squirrel. It leads you to a hidden treasure!\n"
     ]
    }
   ],
   "source": [
    "def start_adventure():\n",
    "    print(\"Welcome to the Mysterious Forest!\")\n",
    "    print(\"You find yourself at a crossroads. Which path will you take?\")\n",
    "    choice = input(\"1. Left path\\n2. Right path\\nChoose wisely (1/2): \")\n",
    "\n",
    "    if choice == '1':\n",
    "        print(\"You encounter a friendly squirrel. It leads you to a hidden treasure!\")\n",
    "    elif choice == '2':\n",
    "        print(\"You stumble upon a dragon's lair. Run for your life!\")\n",
    "    else:\n",
    "        print(\"Invalid choice. The forest is unforgiving.\")\n",
    "\n",
    "# Start the adventure\n",
    "start_adventure()"
   ]
  },
  {
   "cell_type": "markdown",
   "metadata": {},
   "source": [
    "25. Build a program that solves a linear equation for x, considering different cases.\n"
   ]
  },
  {
   "cell_type": "code",
   "execution_count": 10,
   "metadata": {},
   "outputs": [
    {
     "name": "stdout",
     "output_type": "stream",
     "text": [
      "The solution is x = -0.11\n"
     ]
    }
   ],
   "source": [
    "def solve_linear_equation(a, b):\n",
    "    if a == 0:\n",
    "        if b == 0:\n",
    "            return \"Infinite solutions (all real numbers)\"\n",
    "        else:\n",
    "            return \"No solution\"\n",
    "    else:\n",
    "        x = -b / a\n",
    "        return f\"The solution is x = {x:.2f}\"\n",
    "\n",
    "# Example usage\n",
    "a_value = float(input(\"Enter the coefficient of x: \"))\n",
    "b_value = float(input(\"Enter the constant term: \"))\n",
    "result = solve_linear_equation(a_value, b_value)\n",
    "print(result)"
   ]
  },
  {
   "cell_type": "markdown",
   "metadata": {},
   "source": [
    "26. Write a program that simulates a basic quiz game with multiple-choice questions and scoring.\n"
   ]
  },
  {
   "cell_type": "code",
   "execution_count": 11,
   "metadata": {},
   "outputs": [
    {
     "name": "stdout",
     "output_type": "stream",
     "text": [
      "What is the capital of France?\n",
      "1. Paris\n",
      "2. London\n",
      "3. Berlin\n",
      "Your score: 1/1\n"
     ]
    }
   ],
   "source": [
    "def quiz_game():\n",
    "    questions = [\n",
    "        {\"question\": \"What is the capital of France?\",\n",
    "         \"options\": [\"Paris\", \"London\", \"Berlin\"],\n",
    "         \"answer\": \"Paris\"},\n",
    "        # Add more questions here\n",
    "    ]\n",
    "\n",
    "    score = 0\n",
    "    for q in questions:\n",
    "        print(q[\"question\"])\n",
    "        for i, option in enumerate(q[\"options\"], start=1):\n",
    "            print(f\"{i}. {option}\")\n",
    "        user_answer = input(\"Your answer (1/2/3): \")\n",
    "        if user_answer == str(q[\"options\"].index(q[\"answer\"]) + 1):\n",
    "            score += 1\n",
    "\n",
    "    print(f\"Your score: {score}/{len(questions)}\")\n",
    "\n",
    "# Play the quiz\n",
    "quiz_game()"
   ]
  },
  {
   "cell_type": "markdown",
   "metadata": {},
   "source": [
    "27. Develop a program that determines whether a given year is a prime number or not.\n"
   ]
  },
  {
   "cell_type": "code",
   "execution_count": 12,
   "metadata": {},
   "outputs": [
    {
     "name": "stdout",
     "output_type": "stream",
     "text": [
      "2024 is not a prime year.\n"
     ]
    }
   ],
   "source": [
    "def is_prime(year):\n",
    "    if year < 2:\n",
    "        return False\n",
    "    for i in range(2, int(year**0.5) + 1):\n",
    "        if year % i == 0:\n",
    "            return False\n",
    "    return True\n",
    "\n",
    "user_year = int(input(\"Enter a year: \"))\n",
    "if is_prime(user_year):\n",
    "    print(f\"{user_year} is a prime year!\")\n",
    "else:\n",
    "    print(f\"{user_year} is not a prime year.\")"
   ]
  },
  {
   "cell_type": "markdown",
   "metadata": {},
   "source": [
    "28. Create a program that sorts three numbers in ascending order using conditional statements.\n"
   ]
  },
  {
   "cell_type": "code",
   "execution_count": 13,
   "metadata": {},
   "outputs": [
    {
     "name": "stdout",
     "output_type": "stream",
     "text": [
      "Sorted numbers: (1.0, 3.0, 9.0)\n"
     ]
    }
   ],
   "source": [
    "def sort_three_numbers(a, b, c):\n",
    "    if a <= b <= c:\n",
    "        return a, b, c\n",
    "    elif a <= c <= b:\n",
    "        return a, c, b\n",
    "    elif b <= a <= c:\n",
    "        return b, a, c\n",
    "    elif b <= c <= a:\n",
    "        return b, c, a\n",
    "    elif c <= a <= b:\n",
    "        return c, a, b\n",
    "    else:\n",
    "        return c, b, a\n",
    "\n",
    "num1 = float(input(\"Enter the first number: \"))\n",
    "num2 = float(input(\"Enter the second number: \"))\n",
    "num3 = float(input(\"Enter the third number: \"))\n",
    "sorted_nums = sort_three_numbers(num1, num2, num3)\n",
    "print(\"Sorted numbers:\", sorted_nums)"
   ]
  },
  {
   "cell_type": "markdown",
   "metadata": {},
   "source": [
    "29. Build a program that determines the roots of a quartic equation using numerical methods.\n"
   ]
  },
  {
   "cell_type": "code",
   "execution_count": 14,
   "metadata": {},
   "outputs": [
    {
     "name": "stdout",
     "output_type": "stream",
     "text": [
      "Approximate roots: None\n"
     ]
    }
   ],
   "source": [
    "def quartic_roots(a, b, c, d, tolerance=1e-6, max_iterations=100):\n",
    "    # Implement your numerical method here (e.g., Newton-Raphson)\n",
    "    # Return the roots (real or complex)\n",
    "\n",
    "    # Placeholder: returning None for now\n",
    "    return None\n",
    "\n",
    "# Example usage\n",
    "a_coeff = float(input(\"Enter coefficient a: \"))\n",
    "b_coeff = float(input(\"Enter coefficient b: \"))\n",
    "c_coeff = float(input(\"Enter coefficient c: \"))\n",
    "d_coeff = float(input(\"Enter coefficient d: \"))\n",
    "roots = quartic_roots(a_coeff, b_coeff, c_coeff, d_coeff)\n",
    "print(\"Approximate roots:\", roots)"
   ]
  },
  {
   "cell_type": "markdown",
   "metadata": {},
   "source": [
    "30. Write a program that calculates the BMI (Body Mass Index) and provides health recommendations based\n",
    "on the user's input."
   ]
  },
  {
   "cell_type": "code",
   "execution_count": 15,
   "metadata": {},
   "outputs": [
    {
     "name": "stdout",
     "output_type": "stream",
     "text": [
      "Your BMI: 24.85\n",
      "Normal weight: Keep up the good work!\n"
     ]
    }
   ],
   "source": [
    "def calculate_bmi(weight_kg, height_m):\n",
    "    bmi = weight_kg / (height_m ** 2)\n",
    "    return bmi\n",
    "\n",
    "def health_recommendations(bmi):\n",
    "    if bmi < 18.5:\n",
    "        return \"Underweight: Consider gaining weight.\"\n",
    "    elif 18.5 <= bmi < 24.9:\n",
    "        return \"Normal weight: Keep up the good work!\"\n",
    "    elif 25 <= bmi < 29.9:\n",
    "        return \"Overweight: Consider losing weight.\"\n",
    "    else:\n",
    "        return \"Obese: Focus on weight management and consult a doctor.\"\n",
    "\n",
    "weight = float(input(\"Enter your weight (in kg): \"))\n",
    "height = float(input(\"Enter your height (in meters): \"))\n",
    "user_bmi = calculate_bmi(weight, height)\n",
    "print(f\"Your BMI: {user_bmi:.2f}\")\n",
    "print(health_recommendations(user_bmi))"
   ]
  },
  {
   "cell_type": "markdown",
   "metadata": {},
   "source": [
    "Challenge Level:"
   ]
  },
  {
   "cell_type": "markdown",
   "metadata": {},
   "source": [
    "31. Create a program that validates a password based on complexity rules (length, characters, etc.).\n"
   ]
  },
  {
   "cell_type": "code",
   "execution_count": 16,
   "metadata": {},
   "outputs": [
    {
     "name": "stdout",
     "output_type": "stream",
     "text": [
      "Password is valid!\n"
     ]
    }
   ],
   "source": [
    "def validate_password(password):\n",
    "    # Define your complexity rules here\n",
    "    min_length = 8\n",
    "    requires_uppercase = True\n",
    "    requires_lowercase = True\n",
    "    requires_digit = True\n",
    "\n",
    "    if len(password) < min_length:\n",
    "        return \"Password is too short.\"\n",
    "    if requires_uppercase and not any(c.isupper() for c in password):\n",
    "        return \"Password must contain at least one uppercase letter.\"\n",
    "    if requires_lowercase and not any(c.islower() for c in password):\n",
    "        return \"Password must contain at least one lowercase letter.\"\n",
    "    if requires_digit and not any(c.isdigit() for c in password):\n",
    "        return \"Password must contain at least one digit.\"\n",
    "\n",
    "    return \"Password is valid!\"\n",
    "\n",
    "user_password = input(\"Enter a password: \")\n",
    "print(validate_password(user_password))"
   ]
  },
  {
   "cell_type": "markdown",
   "metadata": {},
   "source": [
    "32. Develop a program that performs matrix addition and subtraction based on user input.\n"
   ]
  },
  {
   "cell_type": "code",
   "execution_count": 18,
   "metadata": {},
   "outputs": [
    {
     "name": "stdout",
     "output_type": "stream",
     "text": [
      "Matrix A + Matrix B:\n",
      "[[6, 8], [10, 12]]\n",
      "Matrix A - Matrix B:\n",
      "[[-4, -4], [-4, -4]]\n"
     ]
    }
   ],
   "source": [
    "def matrix_addition(A, B):\n",
    "    # Assuming A and B are valid matrices of the same size\n",
    "    result = [[A[i][j] + B[i][j] for j in range(len(A[0]))] for i in range(len(A))]\n",
    "    return result\n",
    "\n",
    "def matrix_subtraction(A, B):\n",
    "    # Assuming A and B are valid matrices of the same size\n",
    "    result = [[A[i][j] - B[i][j] for j in range(len(A[0]))] for i in range(len(A))]\n",
    "    return result\n",
    "\n",
    "matrix_A = [[1, 2], [3, 4]]\n",
    "matrix_B = [[5, 6], [7, 8]]\n",
    "print(\"Matrix A + Matrix B:\")\n",
    "print(matrix_addition(matrix_A, matrix_B))\n",
    "print(\"Matrix A - Matrix B:\")\n",
    "print(matrix_subtraction(matrix_A, matrix_B))"
   ]
  },
  {
   "cell_type": "markdown",
   "metadata": {},
   "source": [
    "33. Write a program that calculates the greatest common divisor (GCD) of two numbers using the Euclidean\n",
    "algorithm.\n"
   ]
  },
  {
   "cell_type": "code",
   "execution_count": 20,
   "metadata": {},
   "outputs": [
    {
     "name": "stdout",
     "output_type": "stream",
     "text": [
      "GCD of 9 and 15 is 3\n"
     ]
    }
   ],
   "source": [
    "def gcd(a, b):\n",
    "    while b:\n",
    "        a, b = b, a % b\n",
    "    return a\n",
    "\n",
    "num1 = int(input(\"Enter the first number: \"))\n",
    "num2 = int(input(\"Enter the second number: \"))\n",
    "print(f\"GCD of {num1} and {num2} is {gcd(num1, num2)}\")"
   ]
  },
  {
   "cell_type": "markdown",
   "metadata": {},
   "source": [
    "34. Build a program that performs matrix multiplication using nested loops and conditional statements.\n"
   ]
  },
  {
   "cell_type": "code",
   "execution_count": 21,
   "metadata": {},
   "outputs": [
    {
     "name": "stdout",
     "output_type": "stream",
     "text": [
      "Matrix X * Matrix Y:\n",
      "[[19, 22], [43, 50]]\n"
     ]
    }
   ],
   "source": [
    "def matrix_multiplication(A, B):\n",
    "    # Assuming A and B are valid matrices (compatible dimensions)\n",
    "    rows_A, cols_A = len(A), len(A[0])\n",
    "    rows_B, cols_B = len(B), len(B[0])\n",
    "\n",
    "    if cols_A != rows_B:\n",
    "        return \"Invalid matrix dimensions for multiplication.\"\n",
    "\n",
    "    result = [[0] * cols_B for _ in range(rows_A)]\n",
    "\n",
    "    for i in range(rows_A):\n",
    "        for j in range(cols_B):\n",
    "            for k in range(cols_A):\n",
    "                result[i][j] += A[i][k] * B[k][j]\n",
    "\n",
    "    return result\n",
    "\n",
    "# Example usage\n",
    "matrix_X = [[1, 2], [3, 4]]\n",
    "matrix_Y = [[5, 6], [7, 8]]\n",
    "print(\"Matrix X * Matrix Y:\")\n",
    "print(matrix_multiplication(matrix_X, matrix_Y))"
   ]
  },
  {
   "cell_type": "markdown",
   "metadata": {},
   "source": [
    "35. Create a program that simulates a basic text-based tic-tac-toe game against the computer.\n"
   ]
  },
  {
   "cell_type": "code",
   "execution_count": 38,
   "metadata": {},
   "outputs": [
    {
     "name": "stdout",
     "output_type": "stream",
     "text": [
      "     \n",
      "     \n",
      "     \n",
      "X    \n",
      "     \n",
      "     \n",
      "X    \n",
      "  O  \n",
      "     \n",
      "X    \n",
      "  O  \n",
      "    X\n",
      "X O  \n",
      "  O  \n",
      "    X\n",
      "X O  \n",
      "  O  \n",
      "X   X\n",
      "X O  \n",
      "  O  \n",
      "X O X\n",
      "X O  \n",
      "X O  \n",
      "X O X\n",
      "X O O\n",
      "X O  \n",
      "X O X\n",
      "X O O\n",
      "X O X\n",
      "X O X\n"
     ]
    },
    {
     "ename": "ValueError",
     "evalue": "invalid literal for int() with base 10: ''",
     "output_type": "error",
     "traceback": [
      "\u001b[1;31m---------------------------------------------------------------------------\u001b[0m",
      "\u001b[1;31mValueError\u001b[0m                                Traceback (most recent call last)",
      "Cell \u001b[1;32mIn[38], line 29\u001b[0m\n\u001b[0;32m     26\u001b[0m         \u001b[38;5;28;01melse\u001b[39;00m:\n\u001b[0;32m     27\u001b[0m             \u001b[38;5;28mprint\u001b[39m(\u001b[38;5;124m\"\u001b[39m\u001b[38;5;124mCell already occupied. Try again.\u001b[39m\u001b[38;5;124m\"\u001b[39m)\n\u001b[1;32m---> 29\u001b[0m \u001b[43mplay_tic_tac_toe\u001b[49m\u001b[43m(\u001b[49m\u001b[43m)\u001b[49m\n",
      "Cell \u001b[1;32mIn[38], line 16\u001b[0m, in \u001b[0;36mplay_tic_tac_toe\u001b[1;34m()\u001b[0m\n\u001b[0;32m     14\u001b[0m \u001b[38;5;28;01mwhile\u001b[39;00m \u001b[38;5;28;01mTrue\u001b[39;00m:\n\u001b[0;32m     15\u001b[0m     print_board(board)\n\u001b[1;32m---> 16\u001b[0m     row, col \u001b[38;5;241m=\u001b[39m \u001b[38;5;28mmap\u001b[39m(\u001b[38;5;28mint\u001b[39m, \u001b[38;5;28minput\u001b[39m(\u001b[38;5;124mf\u001b[39m\u001b[38;5;124m\"\u001b[39m\u001b[38;5;124mPlayer \u001b[39m\u001b[38;5;132;01m{\u001b[39;00mcurrent_player\u001b[38;5;132;01m}\u001b[39;00m\u001b[38;5;124m, enter row and column (1-3): \u001b[39m\u001b[38;5;124m\"\u001b[39m)\u001b[38;5;241m.\u001b[39msplit(\u001b[38;5;124m\"\u001b[39m\u001b[38;5;124m-\u001b[39m\u001b[38;5;124m\"\u001b[39m))\n\u001b[0;32m     17\u001b[0m     row \u001b[38;5;241m-\u001b[39m\u001b[38;5;241m=\u001b[39m \u001b[38;5;241m1\u001b[39m\n\u001b[0;32m     18\u001b[0m     col \u001b[38;5;241m-\u001b[39m\u001b[38;5;241m=\u001b[39m \u001b[38;5;241m1\u001b[39m\n",
      "\u001b[1;31mValueError\u001b[0m: invalid literal for int() with base 10: ''"
     ]
    }
   ],
   "source": [
    "def print_board(board):\n",
    "    for row in board:\n",
    "        print(\" \".join(row))\n",
    "\n",
    "def check_winner(board, player):\n",
    "    # Implement your logic to check for a winner\n",
    "    # Return True if the player wins, else False\n",
    "    pass\n",
    "\n",
    "def play_tic_tac_toe():\n",
    "    board = [[\" \" for _ in range(3)] for _ in range(3)]\n",
    "    current_player = \"X\"\n",
    "\n",
    "    while True:\n",
    "        print_board(board)\n",
    "        row, col = map(int, input(f\"Player {current_player}, enter row and column (1-3): \").split(\"-\"))\n",
    "        row -= 1\n",
    "        col -= 1\n",
    "\n",
    "        if board[row][col] == \" \":\n",
    "            board[row][col] = current_player\n",
    "            if check_winner(board, current_player):\n",
    "                print(f\"Player {current_player} wins!\")\n",
    "                break\n",
    "            current_player = \"O\" if current_player == \"X\" else \"X\"\n",
    "        else:\n",
    "            print(\"Cell already occupied. Try again.\")\n",
    "\n",
    "play_tic_tac_toe()"
   ]
  },
  {
   "cell_type": "markdown",
   "metadata": {},
   "source": [
    "36. Write a program that generates Fibonacci numbers up to a specified term using iterative methods.\n"
   ]
  },
  {
   "cell_type": "code",
   "execution_count": 40,
   "metadata": {},
   "outputs": [
    {
     "name": "stdout",
     "output_type": "stream",
     "text": [
      "Fibonacci sequence: [0, 1, 1, 2, 3]\n"
     ]
    }
   ],
   "source": [
    "def generate_fibonacci(n):\n",
    "    fib_sequence = [0, 1]\n",
    "    while len(fib_sequence) < n:\n",
    "        next_num = fib_sequence[-1] + fib_sequence[-2]\n",
    "        fib_sequence.append(next_num)\n",
    "    return fib_sequence\n",
    "\n",
    "\n",
    "num_terms = int(input(\"Enter the number of Fibonacci terms to generate: \"))\n",
    "fibonacci_terms = generate_fibonacci(num_terms)\n",
    "print(\"Fibonacci sequence:\", fibonacci_terms)"
   ]
  },
  {
   "cell_type": "markdown",
   "metadata": {},
   "source": [
    "37. Develop a program that calculates the nth term of the Fibonacci sequence using memoization.\n"
   ]
  },
  {
   "cell_type": "code",
   "execution_count": 41,
   "metadata": {},
   "outputs": [
    {
     "name": "stdout",
     "output_type": "stream",
     "text": [
      "Fibonacci term 12: 144\n"
     ]
    }
   ],
   "source": [
    "def fibonacci_memoization(n, memo={}):\n",
    "    if n in memo:\n",
    "        return memo[n]\n",
    "    if n <= 1:\n",
    "        return n\n",
    "    memo[n] = fibonacci_memoization(n - 1, memo) + fibonacci_memoization(n - 2, memo)\n",
    "    return memo[n]\n",
    "\n",
    "term_number = int(input(\"Enter the term number (starting from 0): \"))\n",
    "fibonacci_term = fibonacci_memoization(term_number)\n",
    "print(f\"Fibonacci term {term_number}: {fibonacci_term}\")"
   ]
  },
  {
   "cell_type": "markdown",
   "metadata": {},
   "source": [
    "38. Create a program that generates a calendar for a given month and year using conditional statements.\n"
   ]
  },
  {
   "cell_type": "code",
   "execution_count": 42,
   "metadata": {},
   "outputs": [
    {
     "name": "stdout",
     "output_type": "stream",
     "text": [
      "   November 2020\n",
      "Mo Tu We Th Fr Sa Su\n",
      "                   1\n",
      " 2  3  4  5  6  7  8\n",
      " 9 10 11 12 13 14 15\n",
      "16 17 18 19 20 21 22\n",
      "23 24 25 26 27 28 29\n",
      "30\n",
      "\n"
     ]
    }
   ],
   "source": [
    "import calendar\n",
    "\n",
    "def generate_calendar(year, month):\n",
    "    try:\n",
    "        cal = calendar.month(year, month)\n",
    "        return cal\n",
    "    except ValueError:\n",
    "        return \"Invalid year or month.\"\n",
    "\n",
    "# Example usage\n",
    "user_year = int(input(\"Enter the year: \"))\n",
    "user_month = int(input(\"Enter the month (1-12): \"))\n",
    "print(generate_calendar(user_year, user_month))"
   ]
  },
  {
   "cell_type": "markdown",
   "metadata": {},
   "source": [
    "39. Build a program that simulates a basic text-based blackjack game against the computer.\n"
   ]
  },
  {
   "cell_type": "code",
   "execution_count": 44,
   "metadata": {},
   "outputs": [
    {
     "name": "stdout",
     "output_type": "stream",
     "text": [
      "Your initial score: 17\n",
      "Computer's score: 24\n",
      "You win!\n"
     ]
    }
   ],
   "source": [
    "import random\n",
    "\n",
    "def deal_card():\n",
    "    return random.randint(1, 11)  # Ace can be 1 or 11\n",
    "\n",
    "def play_blackjack():\n",
    "    player_score = deal_card() + deal_card()\n",
    "    computer_score = deal_card()\n",
    "\n",
    "    print(f\"Your initial score: {player_score}\")\n",
    "\n",
    "    while player_score < 21:\n",
    "        action = input(\"Hit or stand? (h/s): \").lower()\n",
    "        if action == 'h':\n",
    "            player_score += deal_card()\n",
    "            print(f\"Your updated score: {player_score}\")\n",
    "        elif action == 's':\n",
    "            break\n",
    "\n",
    "    while computer_score < 17:\n",
    "        computer_score += deal_card()\n",
    "\n",
    "    print(f\"Computer's score: {computer_score}\")\n",
    "\n",
    "    if player_score > 21 or (computer_score <= 21 and computer_score > player_score):\n",
    "        print(\"Computer wins!\")\n",
    "    elif player_score == computer_score:\n",
    "        print(\"It's a tie!\")\n",
    "    else:\n",
    "        print(\"You win!\")\n",
    "\n",
    "# Play the game\n",
    "play_blackjack()"
   ]
  },
  {
   "cell_type": "markdown",
   "metadata": {},
   "source": [
    "40. Write a program that generates the prime factors of a given number using trial division."
   ]
  },
  {
   "cell_type": "code",
   "execution_count": 45,
   "metadata": {},
   "outputs": [
    {
     "name": "stdout",
     "output_type": "stream",
     "text": [
      "Prime factors of 6: [2, 3]\n"
     ]
    }
   ],
   "source": [
    "def prime_factors(n):\n",
    "    factors = []\n",
    "    divisor = 2\n",
    "    while n > 1:\n",
    "        while n % divisor == 0:\n",
    "            factors.append(divisor)\n",
    "            n //= divisor\n",
    "        divisor += 1\n",
    "    return factors\n",
    "\n",
    "user_number = int(input(\"Enter a positive integer: \"))\n",
    "factors_list = prime_factors(user_number)\n",
    "print(f\"Prime factors of {user_number}: {factors_list}\")"
   ]
  }
 ],
 "metadata": {
  "kernelspec": {
   "display_name": "ML",
   "language": "python",
   "name": "python3"
  },
  "language_info": {
   "codemirror_mode": {
    "name": "ipython",
    "version": 3
   },
   "file_extension": ".py",
   "mimetype": "text/x-python",
   "name": "python",
   "nbconvert_exporter": "python",
   "pygments_lexer": "ipython3",
   "version": "3.12.4"
  }
 },
 "nbformat": 4,
 "nbformat_minor": 2
}
